{
  "nbformat": 4,
  "nbformat_minor": 0,
  "metadata": {
    "colab": {
      "provenance": []
    },
    "kernelspec": {
      "name": "python3",
      "display_name": "Python 3"
    },
    "language_info": {
      "name": "python"
    }
  },
  "cells": [
    {
      "cell_type": "markdown",
      "source": [
        "#Functions - Theory Questions"
      ],
      "metadata": {
        "id": "_nE5PDob55XU"
      }
    },
    {
      "cell_type": "markdown",
      "source": [
        "Q1. What is the difference between a function and a method in Python?\n",
        "- A function is a block of code that performs a specific task and is defined using the \"def\" keyword. Whereas a method is a function that is associated with an object (usually defined inside a class) and operates on instances of the class and can access their data (via self)."
      ],
      "metadata": {
        "id": "FxzfzTnz5_Ya"
      }
    },
    {
      "cell_type": "code",
      "execution_count": null,
      "metadata": {
        "colab": {
          "base_uri": "https://localhost:8080/"
        },
        "id": "0GrsisCh5qic",
        "outputId": "a87c609d-a98d-4e83-f3d7-61d7dd6585f1"
      },
      "outputs": [
        {
          "output_type": "stream",
          "name": "stdout",
          "text": [
            "Hello, Alice!\n",
            "Hello, Alice!\n"
          ]
        }
      ],
      "source": [
        "#Example\n",
        "#1. Functions\n",
        "def greet(name):\n",
        "    return f\"Hello, {name}!\"\n",
        "print(greet(\"Alice\"))\n",
        "\n",
        "#2. Methods\n",
        "class Greeter:\n",
        "    def greet(self, name):\n",
        "        return f\"Hello, {name}!\"\n",
        "g = Greeter()\n",
        "print(g.greet(\"Alice\"))"
      ]
    },
    {
      "cell_type": "markdown",
      "source": [
        "Q2. Explain the concept of function arguments and parameters in Python.\n",
        "1. Function: A function is a reusable block of code that performs a specific task whcih is defined using the \"def\" keyword.\n",
        "2. Arguments: Passed to the function when you call it and these are the actual values supplied to the parameters.\n",
        "3. Parameters: Defined in the function declaration/definition and act as placeholders for the values the function will use."
      ],
      "metadata": {
        "id": "IoxXXVNW7Wag"
      }
    },
    {
      "cell_type": "code",
      "source": [
        "#Example\n",
        "#1. Functions\n",
        "def greet(name):\n",
        "    return f\"Hello, {name}!\"\n",
        "print(greet(\"Alice\"))\n",
        "\n",
        "#2. Arguments\n",
        "def add(a, b):\n",
        "    return a + b\n",
        "print(add(2, 3))\n",
        "\n",
        "#3. Parameters\n",
        "def greet(name=\"Alice\"):\n",
        "    print(f\"Hello, {name}!\")\n",
        "greet()"
      ],
      "metadata": {
        "colab": {
          "base_uri": "https://localhost:8080/"
        },
        "id": "yck6Tg1-7OuA",
        "outputId": "c6a9178e-56c0-407e-c4b2-4cc36a6455c3"
      },
      "execution_count": null,
      "outputs": [
        {
          "output_type": "stream",
          "name": "stdout",
          "text": [
            "Hello, Alice!\n",
            "5\n",
            "Hello, Alice!\n"
          ]
        }
      ]
    },
    {
      "cell_type": "markdown",
      "source": [
        "Q3.  What are the different ways to define and call a function in Python ?\n",
        "-"
      ],
      "metadata": {
        "id": "sLSXewyo-pmf"
      }
    },
    {
      "cell_type": "code",
      "source": [
        "#1. Standard Function Definition and Call\n",
        "def greet(name):\n",
        "    return f\"Hello, {name}!\"\n",
        "print(greet(\"Alice\"))"
      ],
      "metadata": {
        "id": "ObsMORUu-C8L",
        "colab": {
          "base_uri": "https://localhost:8080/"
        },
        "outputId": "9e975e89-2f75-45bb-f754-4addc57c5bca"
      },
      "execution_count": 2,
      "outputs": [
        {
          "output_type": "stream",
          "name": "stdout",
          "text": [
            "Hello, Alice!\n"
          ]
        }
      ]
    },
    {
      "cell_type": "code",
      "source": [
        "#2. Function with Default Arguments\n",
        "def greet(name=\"Guest\"):\n",
        "    return f\"Hello, {name}!\"\n",
        "print(greet())         # Uses default\n",
        "print(greet(\"Bob\"))    # Uses provided argument"
      ],
      "metadata": {
        "colab": {
          "base_uri": "https://localhost:8080/"
        },
        "id": "eisJJP8YnAkM",
        "outputId": "fd4387d6-7cd2-440e-de5c-fbdb284d75e2"
      },
      "execution_count": 3,
      "outputs": [
        {
          "output_type": "stream",
          "name": "stdout",
          "text": [
            "Hello, Guest!\n",
            "Hello, Bob!\n"
          ]
        }
      ]
    },
    {
      "cell_type": "code",
      "source": [
        "#3. Function with Variable-Length Arguments\n",
        "#a) *args (Non-keyword variable arguments)\n",
        "def add(*numbers):\n",
        "    return sum(numbers)\n",
        "add(1, 2, 3)  # Returns 6"
      ],
      "metadata": {
        "colab": {
          "base_uri": "https://localhost:8080/"
        },
        "id": "MExStKh8nF2Z",
        "outputId": "154db9ea-11d7-4fa6-9c62-03847d794ea3"
      },
      "execution_count": 5,
      "outputs": [
        {
          "output_type": "execute_result",
          "data": {
            "text/plain": [
              "6"
            ]
          },
          "metadata": {},
          "execution_count": 5
        }
      ]
    },
    {
      "cell_type": "code",
      "source": [
        "#b) **kwargs (Keyword variable arguments)\n",
        "def display_info(**info):\n",
        "    for key, value in info.items():\n",
        "        print(f\"{key}: {value}\")\n",
        "\n",
        "display_info(name=\"Alice\", age=25)"
      ],
      "metadata": {
        "colab": {
          "base_uri": "https://localhost:8080/"
        },
        "id": "mZNrKpwanJoi",
        "outputId": "937fad9f-7607-46ed-f04d-cb0c1d9d3825"
      },
      "execution_count": 6,
      "outputs": [
        {
          "output_type": "stream",
          "name": "stdout",
          "text": [
            "name: Alice\n",
            "age: 25\n"
          ]
        }
      ]
    },
    {
      "cell_type": "code",
      "source": [
        "#4. Lambda (Anonymous) Function\n",
        "square = lambda x: x * x\n",
        "print(square(5))  # Output: 25"
      ],
      "metadata": {
        "colab": {
          "base_uri": "https://localhost:8080/"
        },
        "id": "_U0mqgRdnXHZ",
        "outputId": "992d6c46-4ba8-40b6-f7b1-61314423c122"
      },
      "execution_count": 7,
      "outputs": [
        {
          "output_type": "stream",
          "name": "stdout",
          "text": [
            "25\n"
          ]
        }
      ]
    },
    {
      "cell_type": "code",
      "source": [
        "#5. Function within a Function (Nested Function)\n",
        "def outer():\n",
        "    def inner():\n",
        "        return \"Inner function\"\n",
        "    return inner()\n",
        "\n",
        "print(outer())"
      ],
      "metadata": {
        "colab": {
          "base_uri": "https://localhost:8080/"
        },
        "id": "1e1DrnTGncNA",
        "outputId": "cb932534-7505-490c-f55a-1c596f58e97b"
      },
      "execution_count": 8,
      "outputs": [
        {
          "output_type": "stream",
          "name": "stdout",
          "text": [
            "Inner function\n"
          ]
        }
      ]
    },
    {
      "cell_type": "code",
      "source": [
        "#6. Recursive Function\n",
        "def factorial(n):\n",
        "    if n == 0:\n",
        "        return 1\n",
        "    return n * factorial(n - 1)\n",
        "\n",
        "print(factorial(5))  # Output: 120"
      ],
      "metadata": {
        "colab": {
          "base_uri": "https://localhost:8080/"
        },
        "id": "Z2jxhTSFni9I",
        "outputId": "796c1be7-d3df-479f-a03b-d71617d57973"
      },
      "execution_count": 9,
      "outputs": [
        {
          "output_type": "stream",
          "name": "stdout",
          "text": [
            "120\n"
          ]
        }
      ]
    },
    {
      "cell_type": "code",
      "source": [
        "#. Calling Function via Function Name (Dynamic Call)\n",
        "def greet():\n",
        "    return \"Hello!\"\n",
        "\n",
        "func = greet  # Assigning function to a variable\n",
        "print(func())"
      ],
      "metadata": {
        "colab": {
          "base_uri": "https://localhost:8080/"
        },
        "id": "b208PXxKnlXY",
        "outputId": "ecb0808f-320b-4f13-9a28-f850b36f8960"
      },
      "execution_count": 10,
      "outputs": [
        {
          "output_type": "stream",
          "name": "stdout",
          "text": [
            "Hello!\n"
          ]
        }
      ]
    },
    {
      "cell_type": "code",
      "source": [
        "#8. Using * and ** to Unpack Arguments\n",
        "def info(name, age):\n",
        "    print(f\"{name} is {age} years old.\")\n",
        "\n",
        "args = (\"Alice\", 30)\n",
        "kwargs = {\"name\": \"Bob\", \"age\": 25}\n",
        "\n",
        "info(*args)\n",
        "info(**kwargs)"
      ],
      "metadata": {
        "colab": {
          "base_uri": "https://localhost:8080/"
        },
        "id": "Taa0Da1SnpP4",
        "outputId": "31e42d2d-1223-4cbc-d598-365deae7fdf8"
      },
      "execution_count": 11,
      "outputs": [
        {
          "output_type": "stream",
          "name": "stdout",
          "text": [
            "Alice is 30 years old.\n",
            "Bob is 25 years old.\n"
          ]
        }
      ]
    },
    {
      "cell_type": "code",
      "source": [
        "#9. Class Method (Object-Oriented Approach)\n",
        "class Person:\n",
        "    def greet(self, name):\n",
        "        return f\"Hello, {name}!\"\n",
        "\n",
        "p = Person()\n",
        "print(p.greet(\"Charlie\"))"
      ],
      "metadata": {
        "colab": {
          "base_uri": "https://localhost:8080/"
        },
        "id": "eWnX_WO5nsTp",
        "outputId": "c6734133-2b25-4f52-cc12-e18aedc8f168"
      },
      "execution_count": 12,
      "outputs": [
        {
          "output_type": "stream",
          "name": "stdout",
          "text": [
            "Hello, Charlie!\n"
          ]
        }
      ]
    },
    {
      "cell_type": "markdown",
      "source": [
        "Q4. What is the purpose of the `return` statement in a Python function?\n"
      ],
      "metadata": {
        "id": "M5QigCpBnxiS"
      }
    },
    {
      "cell_type": "code",
      "source": [
        "#1.Outputs a Result:\n",
        "def add(a, b):\n",
        "    return a + b\n",
        "result = add(3, 5)  # result = 8"
      ],
      "metadata": {
        "id": "LkcrU2wWnwHI"
      },
      "execution_count": 20,
      "outputs": []
    },
    {
      "cell_type": "code",
      "source": [
        "#2.Ends Function Execution:\n",
        "def test():\n",
        "    return \"Done\"\n",
        "    print(\"This will never be printed\")  # Unreachable"
      ],
      "metadata": {
        "id": "i3uNpchFoEUX"
      },
      "execution_count": 21,
      "outputs": []
    },
    {
      "cell_type": "code",
      "source": [
        "#3.Allows Function Reusability:\n",
        "if add(2, 2) == 4:\n",
        "    print(\"Correct!\")"
      ],
      "metadata": {
        "colab": {
          "base_uri": "https://localhost:8080/"
        },
        "id": "HKHSNE5yoMFm",
        "outputId": "211825d7-39ca-4948-80df-494fef1b763d"
      },
      "execution_count": 22,
      "outputs": [
        {
          "output_type": "stream",
          "name": "stdout",
          "text": [
            "Correct!\n"
          ]
        }
      ]
    },
    {
      "cell_type": "markdown",
      "source": [
        "Q5. What are iterators in Python and how do they differ from iterables?\n",
        " - An iterator is an object that represents a stream of data, produced one element at a time using a method called __next__(). An object is an iterator if it implements:\n",
        "\n",
        "1. __iter__() → returns the iterator object itself\n",
        "\n",
        "2. __next__() → returns the next item or raises StopIteration when done"
      ],
      "metadata": {
        "id": "pPs6AJLMoTjl"
      }
    },
    {
      "cell_type": "code",
      "source": [
        "my_list = [1, 2, 3]\n",
        "iterator = iter(my_list)\n",
        "\n",
        "print(next(iterator))  # 1\n",
        "print(next(iterator))  # 2\n",
        "print(next(iterator))  # 3\n",
        "# next(iterator)      # Raises StopIteration"
      ],
      "metadata": {
        "colab": {
          "base_uri": "https://localhost:8080/"
        },
        "id": "YWPnbHuRoQTW",
        "outputId": "35efdd4e-40d4-4e5d-c4ea-caf48c57d422"
      },
      "execution_count": 23,
      "outputs": [
        {
          "output_type": "stream",
          "name": "stdout",
          "text": [
            "1\n",
            "2\n",
            "3\n"
          ]
        }
      ]
    },
    {
      "cell_type": "markdown",
      "source": [
        "- An iterable is any Python object capable of returning its members one at a time. Common examples include:\n",
        "\n",
        "1. Lists, tuples, strings, sets, dictionaries\n",
        "\n",
        "2. Objects that implement the __iter__() method"
      ],
      "metadata": {
        "id": "15RqcE6bovG8"
      }
    },
    {
      "cell_type": "code",
      "source": [
        "my_list = [1, 2, 3]\n",
        "my_string = \"hello\"\n",
        "\n",
        "# You can loop over these\n",
        "for char in my_string:\n",
        "    print(char)"
      ],
      "metadata": {
        "colab": {
          "base_uri": "https://localhost:8080/"
        },
        "id": "I0MfEipWouOe",
        "outputId": "6b035843-e262-443d-8bf9-69ec5d64d79b"
      },
      "execution_count": 24,
      "outputs": [
        {
          "output_type": "stream",
          "name": "stdout",
          "text": [
            "h\n",
            "e\n",
            "l\n",
            "l\n",
            "o\n"
          ]
        }
      ]
    },
    {
      "cell_type": "markdown",
      "source": [
        "Q6.  Explain the concept of generators in Python and how they are defined.\n",
        "- A generator is:\n",
        "\n",
        "1. A function that yields values using the yield keyword (instead of return)\n",
        "\n",
        "2. Automatically creates an iterator object\n",
        "\n",
        "3. Keeps track of its state between yield calls"
      ],
      "metadata": {
        "id": "oh8VOB-lo6Wb"
      }
    },
    {
      "cell_type": "code",
      "source": [
        "def count_up_to(max):\n",
        "    count = 1\n",
        "    while count <= max:\n",
        "        yield count\n",
        "        count += 1\n",
        "gen = count_up_to(3)\n",
        "print(next(gen))  # 1\n",
        "print(next(gen))  # 2\n",
        "print(next(gen))  # 3\n",
        "# next(gen)      # Raises StopIteration"
      ],
      "metadata": {
        "colab": {
          "base_uri": "https://localhost:8080/"
        },
        "id": "_6U8KTtHo2Gl",
        "outputId": "650613e0-0141-4ad2-ed20-b7947bf7c8ce"
      },
      "execution_count": 25,
      "outputs": [
        {
          "output_type": "stream",
          "name": "stdout",
          "text": [
            "1\n",
            "2\n",
            "3\n"
          ]
        }
      ]
    },
    {
      "cell_type": "markdown",
      "source": [
        "Q7. What are the advantages of using generators over regular functions?"
      ],
      "metadata": {
        "id": "1rVEqp97pLIz"
      }
    },
    {
      "cell_type": "code",
      "source": [
        "#1.Memory Efficiency\n",
        "def regular():\n",
        "    return [i for i in range(1000000)]  # Consumes a lot of memory\n",
        "\n",
        "def generator():\n",
        "    for i in range(1000000):\n",
        "        yield i  # Generates one at a time"
      ],
      "metadata": {
        "id": "eXVhP2FQpJTE"
      },
      "execution_count": 26,
      "outputs": []
    },
    {
      "cell_type": "code",
      "source": [
        "#2. Lazy Evaluation\n",
        "def infinite_counter():\n",
        "    i = 0\n",
        "    while True:\n",
        "        yield i\n",
        "        i += 1"
      ],
      "metadata": {
        "id": "l_66xTgIqYvx"
      },
      "execution_count": 27,
      "outputs": []
    },
    {
      "cell_type": "code",
      "source": [
        "#3. Faster Startup Time\n",
        "#4. Simpler Code for Iterators\n",
        "#a.With Generator:\n",
        "def countdown(n):\n",
        "    while n > 0:\n",
        "        yield n\n",
        "        n -= 1"
      ],
      "metadata": {
        "id": "v05QPjxaqcOZ"
      },
      "execution_count": 29,
      "outputs": []
    },
    {
      "cell_type": "code",
      "source": [
        "#b.Without Generator (manual iterator):\n",
        "class Countdown:\n",
        "    def __init__(self, n):\n",
        "        self.n = n\n",
        "\n",
        "    def __iter__(self):\n",
        "        return self\n",
        "\n",
        "    def __next__(self):\n",
        "        if self.n <= 0:\n",
        "            raise StopIteration\n",
        "        val = self.n\n",
        "        self.n -= 1\n",
        "        return val"
      ],
      "metadata": {
        "id": "PlS0UK3Oqj5A"
      },
      "execution_count": 30,
      "outputs": []
    },
    {
      "cell_type": "code",
      "source": [
        "#5. Better Performance for Streaming Data\n",
        "#6. Can Represent Infinite Sequences\n",
        "def even_numbers():\n",
        "    n = 0\n",
        "    while True:\n",
        "        yield n\n",
        "        n += 2"
      ],
      "metadata": {
        "id": "70RdArYoqsUg"
      },
      "execution_count": 31,
      "outputs": []
    },
    {
      "cell_type": "markdown",
      "source": [
        "Q8. What is a lambda function in Python and when is it typically used?\n",
        "- A lambda function in Python is a small anonymous function defined using the lambda keyword. It is typically used for short, throwaway functions where a full def function would be unnecessarily verbose."
      ],
      "metadata": {
        "id": "wMn3bowiq2kA"
      }
    },
    {
      "cell_type": "code",
      "source": [
        "#ex.\n",
        "square = lambda x: x * x\n",
        "print(square(5))  # Output: 25"
      ],
      "metadata": {
        "colab": {
          "base_uri": "https://localhost:8080/"
        },
        "id": "pEAFV00iq2Fn",
        "outputId": "716e4921-f02d-4bc9-c6fd-66d3b48067d5"
      },
      "execution_count": 32,
      "outputs": [
        {
          "output_type": "stream",
          "name": "stdout",
          "text": [
            "25\n"
          ]
        }
      ]
    },
    {
      "cell_type": "code",
      "source": [
        "#It is used in:\n",
        "#1. As Key Functions in Sorting\n",
        "data = [(1, 'apple'), (3, 'banana'), (2, 'cherry')]\n",
        "sorted_data = sorted(data, key=lambda x: x[1])\n",
        "# Sorts by second element in each tuple"
      ],
      "metadata": {
        "id": "-mvWRyeCrIOu"
      },
      "execution_count": 33,
      "outputs": []
    },
    {
      "cell_type": "code",
      "source": [
        "#2. With Built-in Functions like map()\n",
        "nums = [1, 2, 3]\n",
        "squares = list(map(lambda x: x*x, nums))  # [1, 4, 9]"
      ],
      "metadata": {
        "id": "FgdgzrCOrP5f"
      },
      "execution_count": 35,
      "outputs": []
    },
    {
      "cell_type": "code",
      "source": [
        "#filter()\n",
        "even = list(filter(lambda x: x % 2 == 0, nums))  # [2]"
      ],
      "metadata": {
        "id": "vWqJUU87rTO-"
      },
      "execution_count": 36,
      "outputs": []
    },
    {
      "cell_type": "code",
      "source": [
        "#reduce() (requires functools)\n",
        "from functools import reduce\n",
        "sum_all = reduce(lambda x, y: x + y, nums)  # 6"
      ],
      "metadata": {
        "id": "mrEcQUP4rb2X"
      },
      "execution_count": 39,
      "outputs": []
    },
    {
      "cell_type": "markdown",
      "source": [
        "Q9. Explain the purpose and usage of the `map()` function in Python.\n",
        "- The map() function in Python is a built-in function used to apply a function to every item in an iterable (like a list or tuple) and return a new map object (which is an iterator) with the transformed values."
      ],
      "metadata": {
        "id": "MPGoMhXBrpCd"
      }
    },
    {
      "cell_type": "code",
      "source": [
        "nums = [1, 2, 3, 4]\n",
        "squares = map(lambda x: x ** 2, nums)\n",
        "print(list(squares))  # Output: [1, 4, 9, 16]"
      ],
      "metadata": {
        "colab": {
          "base_uri": "https://localhost:8080/"
        },
        "id": "XskUCu1gr4OM",
        "outputId": "6046abbc-b604-4f53-b5fa-2134cfe0c32c"
      },
      "execution_count": 46,
      "outputs": [
        {
          "output_type": "stream",
          "name": "stdout",
          "text": [
            "[1, 4, 9, 16]\n"
          ]
        }
      ]
    },
    {
      "cell_type": "code",
      "source": [
        "def double(x):\n",
        "    return x * 2\n",
        "result = map(double, [1, 2, 3])\n",
        "print(list(result))  # [2, 4, 6]"
      ],
      "metadata": {
        "colab": {
          "base_uri": "https://localhost:8080/"
        },
        "id": "-Oqj3quYriee",
        "outputId": "34007f73-d740-4492-870a-624787914945"
      },
      "execution_count": 47,
      "outputs": [
        {
          "output_type": "stream",
          "name": "stdout",
          "text": [
            "[2, 4, 6]\n"
          ]
        }
      ]
    },
    {
      "cell_type": "code",
      "source": [
        "a = [1, 2, 3]\n",
        "b = [4, 5, 6]\n",
        "result = map(lambda x, y: x + y, a, b)\n",
        "print(list(result))  # [5, 7, 9]"
      ],
      "metadata": {
        "colab": {
          "base_uri": "https://localhost:8080/"
        },
        "id": "7QpmIsgGryx2",
        "outputId": "506c1c86-6180-4e98-a334-10604e119442"
      },
      "execution_count": 48,
      "outputs": [
        {
          "output_type": "stream",
          "name": "stdout",
          "text": [
            "[5, 7, 9]\n"
          ]
        }
      ]
    },
    {
      "cell_type": "markdown",
      "source": [
        "Q10. What is the difference between `map()`, `reduce()`, and `filter()` functions in Python?"
      ],
      "metadata": {
        "id": "Db6YqCTgr-6t"
      }
    },
    {
      "cell_type": "code",
      "source": [
        "#1. map() – Transform Elements\n",
        "nums = [1, 2, 3, 4]\n",
        "squares = map(lambda x: x**2, nums)\n",
        "print(list(squares))  # [1, 4, 9, 16]"
      ],
      "metadata": {
        "colab": {
          "base_uri": "https://localhost:8080/"
        },
        "id": "7vf5n9Xcrz99",
        "outputId": "cde99cb0-510e-43a1-d9cf-7a91d7132f3c"
      },
      "execution_count": 50,
      "outputs": [
        {
          "output_type": "stream",
          "name": "stdout",
          "text": [
            "[1, 4, 9, 16]\n"
          ]
        }
      ]
    },
    {
      "cell_type": "code",
      "source": [
        "#. filter() – Select Elements\n",
        "nums = [1, 2, 3, 4, 5]\n",
        "evens = filter(lambda x: x % 2 == 0, nums)\n",
        "print(list(evens))  # [2, 4]"
      ],
      "metadata": {
        "colab": {
          "base_uri": "https://localhost:8080/"
        },
        "id": "1rDd2WLUsGeU",
        "outputId": "756c9200-5049-4393-acce-c65ffc8b9b3b"
      },
      "execution_count": 51,
      "outputs": [
        {
          "output_type": "stream",
          "name": "stdout",
          "text": [
            "[2, 4]\n"
          ]
        }
      ]
    },
    {
      "cell_type": "code",
      "source": [
        "#3. reduce() – Aggregate Elements\n",
        "from functools import reduce\n",
        "nums = [1, 2, 3, 4]\n",
        "product = reduce(lambda x, y: x * y, nums)\n",
        "print(product)  # 24 (1*2*3*4)"
      ],
      "metadata": {
        "colab": {
          "base_uri": "https://localhost:8080/"
        },
        "id": "y4KtwGNisKWk",
        "outputId": "97db00fc-a369-4318-8178-5d250bd378cb"
      },
      "execution_count": 52,
      "outputs": [
        {
          "output_type": "stream",
          "name": "stdout",
          "text": [
            "24\n"
          ]
        }
      ]
    },
    {
      "cell_type": "code",
      "source": [
        "from functools import reduce\n",
        "nums = [1, 2, 3, 4, 5, 6]\n",
        "# Step 1: Filter even numbers\n",
        "evens = filter(lambda x: x % 2 == 0, nums)        # [2, 4, 6]\n",
        "# Step 2: Square the even numbers\n",
        "squares = map(lambda x: x**2, evens)              # [4, 16, 36]\n",
        "# Step 3: Sum the squared even numbers\n",
        "result = reduce(lambda x, y: x + y, squares)      # 56\n",
        "print(result)  # Output: 56"
      ],
      "metadata": {
        "colab": {
          "base_uri": "https://localhost:8080/"
        },
        "id": "h_X9yXB-sNwk",
        "outputId": "10655bbc-6fa1-40df-c567-5c09643c1c47"
      },
      "execution_count": 53,
      "outputs": [
        {
          "output_type": "stream",
          "name": "stdout",
          "text": [
            "56\n"
          ]
        }
      ]
    },
    {
      "cell_type": "markdown",
      "source": [
        "Q11. Using pen & Paper write the internal mechanism for sum operation using  reduce function on this given\n",
        "list:[47,11,42,13];\n",
        "\n",
        "Solution Attached in the DOC"
      ],
      "metadata": {
        "id": "wsHzVTOQss4D"
      }
    },
    {
      "cell_type": "markdown",
      "source": [
        "#PRACTICAL QUESTIONS"
      ],
      "metadata": {
        "id": "DCW81Um2uDhv"
      }
    },
    {
      "cell_type": "code",
      "source": [
        "#1. Write a Python function that takes a list of numbers as input and returns the sum of all even numbers in the list.\n",
        "\n",
        "def sum_of_even_numbers(numbers):\n",
        "    even_sum = 0\n",
        "    for num in numbers:\n",
        "        if num % 2 == 0:\n",
        "            even_sum += num\n",
        "    return even_sum\n",
        "my_list = [10, 15, 8, 23, 42, 7]\n",
        "result = sum_of_even_numbers(my_list)\n",
        "print(\"Sum of even numbers:\", result)"
      ],
      "metadata": {
        "colab": {
          "base_uri": "https://localhost:8080/"
        },
        "id": "oyedbEWTsS5s",
        "outputId": "e0b98e4a-b51a-4ed7-9941-5fdaf8c25fcd"
      },
      "execution_count": 54,
      "outputs": [
        {
          "output_type": "stream",
          "name": "stdout",
          "text": [
            "Sum of even numbers: 60\n"
          ]
        }
      ]
    },
    {
      "cell_type": "code",
      "source": [
        "#Using filter() and sum() (Pythonic way)\n",
        "def sum_of_even_numbers(numbers):\n",
        "    return sum(filter(lambda x: x % 2 == 0, numbers))"
      ],
      "metadata": {
        "id": "jI_iGe1GuO-3"
      },
      "execution_count": 55,
      "outputs": []
    },
    {
      "cell_type": "code",
      "source": [
        "#2.  Create a Python function that accepts a string and returns the reverse of that string.\n",
        "\n",
        "def reverse_string(s):\n",
        "    return s[::-1]\n",
        "result = reverse_string(\"hello\")\n",
        "print(result)  # Output: \"olleh\""
      ],
      "metadata": {
        "colab": {
          "base_uri": "https://localhost:8080/"
        },
        "id": "ZuLrG32xuWsv",
        "outputId": "e9bb5da5-f2f6-4766-baba-d65dfb55e011"
      },
      "execution_count": 56,
      "outputs": [
        {
          "output_type": "stream",
          "name": "stdout",
          "text": [
            "olleh\n"
          ]
        }
      ]
    },
    {
      "cell_type": "code",
      "source": [
        "#3.  Implement a Python function that takes a list of integers and returns a new list containing the squares of each number.\n",
        "\n",
        "def square_list(numbers):\n",
        "    return [x ** 2 for x in numbers]\n",
        "nums = [1, 2, 3, 4]\n",
        "squares = square_list(nums)\n",
        "print(squares)  # Output: [1, 4, 9, 16]"
      ],
      "metadata": {
        "colab": {
          "base_uri": "https://localhost:8080/"
        },
        "id": "Y7b4tK0ZugXm",
        "outputId": "4262b257-6c49-4bdc-b942-8799a05393f7"
      },
      "execution_count": 57,
      "outputs": [
        {
          "output_type": "stream",
          "name": "stdout",
          "text": [
            "[1, 4, 9, 16]\n"
          ]
        }
      ]
    },
    {
      "cell_type": "code",
      "source": [
        "#4.  Write a Python function that checks if a given number is prime or not from 1 to 200.\n",
        "\n",
        "def is_prime(n):\n",
        "    if n <= 1:\n",
        "        return False\n",
        "    if n == 2:\n",
        "        return True\n",
        "    if n % 2 == 0:\n",
        "        return False\n",
        "    # Check for factors from 3 to sqrt(n)\n",
        "    for i in range(3, int(n**0.5) + 1, 2):\n",
        "        if n % i == 0:\n",
        "            return False\n",
        "    return True\n",
        "for num in range(1, 201):\n",
        "    if is_prime(num):\n",
        "        print(f\"{num} is a prime number\")"
      ],
      "metadata": {
        "colab": {
          "base_uri": "https://localhost:8080/"
        },
        "id": "0cFtsxdruo3O",
        "outputId": "f82fa1e8-60d4-4812-93bb-073008df7003"
      },
      "execution_count": 58,
      "outputs": [
        {
          "output_type": "stream",
          "name": "stdout",
          "text": [
            "2 is a prime number\n",
            "3 is a prime number\n",
            "5 is a prime number\n",
            "7 is a prime number\n",
            "11 is a prime number\n",
            "13 is a prime number\n",
            "17 is a prime number\n",
            "19 is a prime number\n",
            "23 is a prime number\n",
            "29 is a prime number\n",
            "31 is a prime number\n",
            "37 is a prime number\n",
            "41 is a prime number\n",
            "43 is a prime number\n",
            "47 is a prime number\n",
            "53 is a prime number\n",
            "59 is a prime number\n",
            "61 is a prime number\n",
            "67 is a prime number\n",
            "71 is a prime number\n",
            "73 is a prime number\n",
            "79 is a prime number\n",
            "83 is a prime number\n",
            "89 is a prime number\n",
            "97 is a prime number\n",
            "101 is a prime number\n",
            "103 is a prime number\n",
            "107 is a prime number\n",
            "109 is a prime number\n",
            "113 is a prime number\n",
            "127 is a prime number\n",
            "131 is a prime number\n",
            "137 is a prime number\n",
            "139 is a prime number\n",
            "149 is a prime number\n",
            "151 is a prime number\n",
            "157 is a prime number\n",
            "163 is a prime number\n",
            "167 is a prime number\n",
            "173 is a prime number\n",
            "179 is a prime number\n",
            "181 is a prime number\n",
            "191 is a prime number\n",
            "193 is a prime number\n",
            "197 is a prime number\n",
            "199 is a prime number\n"
          ]
        }
      ]
    },
    {
      "cell_type": "code",
      "source": [
        "#5. Create an iterator class in Python that generates the Fibonacci sequence up to a specified number of terms.\n",
        "\n",
        "class FibonacciIterator:\n",
        "    def __init__(self, n_terms):\n",
        "        self.n_terms = n_terms  # total terms to generate\n",
        "        self.index = 0          # current position\n",
        "        self.a, self.b = 0, 1   # starting values of Fibonacci sequence\n",
        "\n",
        "    def __iter__(self):\n",
        "        return self\n",
        "\n",
        "    def __next__(self):\n",
        "        if self.index >= self.n_terms:\n",
        "            raise StopIteration\n",
        "        if self.index == 0:\n",
        "            self.index += 1\n",
        "            return 0\n",
        "        elif self.index == 1:\n",
        "            self.index += 1\n",
        "            return 1\n",
        "        else:\n",
        "            self.a, self.b = self.b, self.a + self.b\n",
        "            self.index += 1\n",
        "            return self.a\n",
        "fib_iter = FibonacciIterator(10)\n",
        "for num in fib_iter:\n",
        "    print(num)"
      ],
      "metadata": {
        "colab": {
          "base_uri": "https://localhost:8080/"
        },
        "id": "jmiPhZdKuwPt",
        "outputId": "aa18583c-012f-4cef-a3f2-3bdc5eb61e7f"
      },
      "execution_count": 59,
      "outputs": [
        {
          "output_type": "stream",
          "name": "stdout",
          "text": [
            "0\n",
            "1\n",
            "1\n",
            "1\n",
            "2\n",
            "3\n",
            "5\n",
            "8\n",
            "13\n",
            "21\n"
          ]
        }
      ]
    },
    {
      "cell_type": "code",
      "source": [
        "#6. Write a generator function in Python that yields the powers of 2 up to a given exponent.\n",
        "\n",
        "def powers_of_two(n):\n",
        "    for i in range(n + 1):\n",
        "        yield 2 ** i\n",
        "for power in powers_of_two(5):\n",
        "    print(power)"
      ],
      "metadata": {
        "colab": {
          "base_uri": "https://localhost:8080/"
        },
        "id": "GxYk705Cu8wW",
        "outputId": "914436e3-9711-49f0-b6f3-f9c89714ac9d"
      },
      "execution_count": 60,
      "outputs": [
        {
          "output_type": "stream",
          "name": "stdout",
          "text": [
            "1\n",
            "2\n",
            "4\n",
            "8\n",
            "16\n",
            "32\n"
          ]
        }
      ]
    },
    {
      "cell_type": "code",
      "source": [
        "#7.  Implement a generator function that reads a file line by line and yields each line as a string.\n",
        "\n",
        "def read_file_line_by_line(file_path):\n",
        "    with open(file_path, 'r') as file:\n",
        "        for line in file:\n",
        "            yield line.rstrip('\\n')  # strip newline character\n",
        "for line in read_file_line_by_line('example.txt'):\n",
        "    print(line)"
      ],
      "metadata": {
        "id": "OoGPFU7cvLs8"
      },
      "execution_count": null,
      "outputs": []
    },
    {
      "cell_type": "code",
      "source": [
        "#8.  Use a lambda function in Python to sort a list of tuples based on the second element of each tuple.\n",
        "\n",
        "data = [(1, 3), (4, 1), (5, 2), (2, 4)]\n",
        "sorted_data = sorted(data, key=lambda x: x[1])\n",
        "print(sorted_data)"
      ],
      "metadata": {
        "colab": {
          "base_uri": "https://localhost:8080/"
        },
        "id": "BNDp_u8Vvc5a",
        "outputId": "3556fb2c-f1a5-4785-824b-f6a7c7bb8edc"
      },
      "execution_count": 63,
      "outputs": [
        {
          "output_type": "stream",
          "name": "stdout",
          "text": [
            "[(4, 1), (5, 2), (1, 3), (2, 4)]\n"
          ]
        }
      ]
    },
    {
      "cell_type": "code",
      "source": [
        "#9. Write a Python program that uses `map()` to convert a list of temperatures from Celsius to Fahrenheit\n",
        "\n",
        "def celsius_to_fahrenheit(c):\n",
        "    return (c * 9/5) + 32\n",
        "celsius_temps = [0, 20, 37, 100]\n",
        "fahrenheit_temps = list(map(celsius_to_fahrenheit, celsius_temps))\n",
        "print(fahrenheit_temps)"
      ],
      "metadata": {
        "colab": {
          "base_uri": "https://localhost:8080/"
        },
        "id": "vMX-msnFvlp0",
        "outputId": "504c91d7-1839-48c1-df75-38d632cdc330"
      },
      "execution_count": 64,
      "outputs": [
        {
          "output_type": "stream",
          "name": "stdout",
          "text": [
            "[32.0, 68.0, 98.6, 212.0]\n"
          ]
        }
      ]
    },
    {
      "cell_type": "code",
      "source": [
        "#10.Create a Python program that uses `filter()` to remove all the vowels from a given string.\n",
        "\n",
        "def remove_vowels(s):\n",
        "    vowels = \"aeiouAEIOU\"\n",
        "    return ''.join(filter(lambda char: char not in vowels, s))\n",
        "\n",
        "# Example usage\n",
        "input_str = \"Hello, World!\"\n",
        "result = remove_vowels(input_str)\n",
        "print(result)  # Output: \"Hll, Wrld!\""
      ],
      "metadata": {
        "colab": {
          "base_uri": "https://localhost:8080/"
        },
        "id": "U661aGzrvtKj",
        "outputId": "3188fd0e-284e-4bf0-eb03-8c5d5afaad4b"
      },
      "execution_count": 65,
      "outputs": [
        {
          "output_type": "stream",
          "name": "stdout",
          "text": [
            "Hll, Wrld!\n"
          ]
        }
      ]
    },
    {
      "cell_type": "code",
      "source": [
        "#11. Write a Python program, which returns a list with 2-tuples. Each tuple consists of the order number and the product of the price per item and the quantity. The product should be increased by 10,- € if the value of the order is smaller than 100,00 €. Write a Python program using lambda and map.\n",
        "\n",
        "orders = [\n",
        "    [34578, 40.95, 4],   # total = 60.0  → add 10 → 70.0\n",
        "    [98762, 56.80, 5],   # total = 105.0 → no extra\n",
        "    [77226, 32.95, 3],    # total = 40.0  → add 10 → 50.0\n",
        "    [88112, 24.99, 3]   # total = 125.0 → no extra\n",
        "]\n",
        "result = list(\n",
        "    map(\n",
        "        lambda order: (\n",
        "            order[0],\n",
        "            order[1] * order[2] + (10 if order[1] * order[2] < 100 else 0)\n",
        "        ),\n",
        "        orders\n",
        "    )\n",
        ")\n",
        "print(result)"
      ],
      "metadata": {
        "colab": {
          "base_uri": "https://localhost:8080/"
        },
        "id": "wN9pWpczvyVD",
        "outputId": "6f1e7410-c2f6-4f15-dded-a95384f760ba"
      },
      "execution_count": 66,
      "outputs": [
        {
          "output_type": "stream",
          "name": "stdout",
          "text": [
            "[(34578, 163.8), (98762, 284.0), (77226, 108.85000000000001), (88112, 84.97)]\n"
          ]
        }
      ]
    }
  ]
}